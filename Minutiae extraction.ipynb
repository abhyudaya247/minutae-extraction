{
 "cells": [
  {
   "cell_type": "code",
   "execution_count": 1,
   "metadata": {},
   "outputs": [],
   "source": [
    "import numpy as np\n",
    "import glob\n",
    "import random\n",
    "import imageio\n",
    "import PIL, cv2\n",
    "import pandas as pd\n",
    "%matplotlib inline\n",
    "import matplotlib.pyplot as plt\n",
    "from skimage.morphology import convex_hull_image, erosion\n",
    "from skimage.morphology import square\n",
    "import matplotlib.image as mpimg\n",
    "import skimage\n",
    "import math\n",
    "from scipy.ndimage.filters import convolve\n",
    "from PIL import Image,ImageFilter\n",
    "from skimage.feature import hessian_matrix, hessian_matrix_eigvals"
   ]
  },
  {
   "cell_type": "code",
   "execution_count": 2,
   "metadata": {
    "scrolled": true
   },
   "outputs": [
    {
     "name": "stdout",
     "output_type": "stream",
     "text": [
      "['C:/Users/ADMIN/Desktop/real\\\\image1.jpeg', 'C:/Users/ADMIN/Desktop/real\\\\image2.jpeg', 'C:/Users/ADMIN/Desktop/real\\\\image3.jpeg', 'C:/Users/ADMIN/Desktop/real\\\\image4.jpeg', 'C:/Users/ADMIN/Desktop/real\\\\image5.jpeg']\n"
     ]
    },
    {
     "data": {
      "text/plain": [
       "5"
      ]
     },
     "execution_count": 2,
     "metadata": {},
     "output_type": "execute_result"
    }
   ],
   "source": [
    "DATA_DIR = \"C:/Users/ADMIN/Desktop/real/\"\n",
    "list_dirs = list(glob.glob(DATA_DIR+\"*.JPEG\"))\n",
    "print(list_dirs)\n",
    "num_images = len(list_dirs)\n",
    "num_images"
   ]
  },
  {
   "cell_type": "code",
   "execution_count": 3,
   "metadata": {},
   "outputs": [],
   "source": [
    "display_list = list_dirs[0:5]\n",
    "\n",
    "image1 = imageio.imread(display_list[0])\n",
    "image2 = imageio.imread(display_list[1])\n",
    "image3 = imageio.imread(display_list[2])"
   ]
  },
  {
   "cell_type": "code",
   "execution_count": 4,
   "metadata": {},
   "outputs": [],
   "source": [
    "THRESHOLD1 = image1.mean()\n",
    "image1 = np.array(image1 > THRESHOLD1).astype(int) * 255"
   ]
  },
  {
   "cell_type": "code",
   "execution_count": 5,
   "metadata": {},
   "outputs": [],
   "source": [
    "def getTerminationBifurcation(img, mask):\n",
    "    img = img == 255;\n",
    "    (rows, cols) = img.shape;\n",
    "    minutiaeTerm = np.zeros(img.shape);\n",
    "    minutiaeBif = np.zeros(img.shape);\n",
    "    \n",
    "    for i in range(1,rows-1):\n",
    "        for j in range(1,cols-1):\n",
    "            if(img[i][j] == 1):\n",
    "                block = img[i-1:i+2,j-1:j+2];\n",
    "                block_val = np.sum(block);\n",
    "                if(block_val == 2):\n",
    "                    minutiaeTerm[i,j] = 1;\n",
    "                elif(block_val == 4):\n",
    "                    minutiaeBif[i,j] = 1;\n",
    "    \n",
    "    mask = convex_hull_image(mask>0)\n",
    "    mask = erosion(mask, square(5))         \n",
    "    minutiaeTerm = np.uint8(mask)*minutiaeTerm\n",
    "    return(minutiaeTerm, minutiaeBif)"
   ]
  },
  {
   "cell_type": "code",
   "execution_count": 6,
   "metadata": {},
   "outputs": [],
   "source": [
    "class MinutiaeFeature(object):\n",
    "    def __init__(self, locX, locY, Orientation, Type):\n",
    "        self.locX = locX;\n",
    "        self.locY = locY;\n",
    "        self.Orientation = Orientation;\n",
    "        self.Type = Type;\n",
    "\n",
    "def computeAngle(block, minutiaeType):\n",
    "    angle = 0\n",
    "    (blkRows, blkCols) = np.shape(block);\n",
    "    CenterX, CenterY = (blkRows-1)/2, (blkCols-1)/2\n",
    "    if(minutiaeType.lower() == 'termination'):\n",
    "        sumVal = 0;\n",
    "        for i in range(blkRows):\n",
    "            for j in range(blkCols):\n",
    "                if((i == 0 or i == blkRows-1 or j == 0 or j == blkCols-1) and block[i][j] != 0):\n",
    "                    angle = -math.degrees(math.atan2(i-CenterY, j-CenterX))\n",
    "                    sumVal += 1\n",
    "                    if(sumVal > 1):\n",
    "                        angle = float('nan');\n",
    "        return(angle)\n",
    "    elif(minutiaeType.lower() == 'bifurcation'):\n",
    "        (blkRows, blkCols) = np.shape(block);\n",
    "        CenterX, CenterY = (blkRows - 1) / 2, (blkCols - 1) / 2\n",
    "        angle = []\n",
    "        sumVal = 0;\n",
    "        for i in range(blkRows):\n",
    "            for j in range(blkCols):\n",
    "                if ((i == 0 or i == blkRows - 1 or j == 0 or j == blkCols - 1) and block[i][j] != 0):\n",
    "                    angle.append(-math.degrees(math.atan2(i - CenterY, j - CenterX)))\n",
    "                    sumVal += 1\n",
    "        if(sumVal != 3):\n",
    "            angle = float('nan')\n",
    "        return(angle)\n",
    "\n",
    "\n",
    "def extractMinutiaeFeatures(skel, minutiaeTerm, minutiaeBif):\n",
    "    FeaturesTerm = []\n",
    "\n",
    "    minutiaeTerm = skimage.measure.label(minutiaeTerm, connectivity=2);\n",
    "    RP = skimage.measure.regionprops(minutiaeTerm)\n",
    "    \n",
    "    WindowSize = 2          \n",
    "    FeaturesTerm = []\n",
    "    for i in RP:\n",
    "        (row, col) = np.int16(np.round(i['Centroid']))\n",
    "        block = skel[row-WindowSize:row+WindowSize+1, col-WindowSize:col+WindowSize+1]\n",
    "        angle = computeAngle(block, 'Termination')\n",
    "        FeaturesTerm.append(MinutiaeFeature(row, col, angle, 'Termination'))\n",
    "\n",
    "    FeaturesBif = []\n",
    "    minutiaeBif = skimage.measure.label(minutiaeBif, connectivity=2);\n",
    "    RP = skimage.measure.regionprops(minutiaeBif)\n",
    "    WindowSize = 1 \n",
    "    for i in RP:\n",
    "        (row, col) = np.int16(np.round(i['Centroid']))\n",
    "        block = skel[row-WindowSize:row+WindowSize+1, col-WindowSize:col+WindowSize+1]\n",
    "        angle = computeAngle(block, 'Bifurcation')\n",
    "        FeaturesBif.append(MinutiaeFeature(row, col, angle, 'Bifurcation'))\n",
    "    return(FeaturesTerm, FeaturesBif)\n",
    "\n",
    "def ShowResults(skel, TermLabel, BifLabel):\n",
    "    minutiaeBif = TermLabel * 0;\n",
    "    minutiaeTerm = BifLabel * 0;\n",
    "\n",
    "    (rows, cols) = skel.shape\n",
    "    DispImg = np.zeros((rows, cols, 3), np.uint8)\n",
    "    DispImg[:, :, 0] = skel;\n",
    "    DispImg[:, :, 1] = skel;\n",
    "    DispImg[:, :, 2] = skel;\n",
    "\n",
    "    RP = skimage.measure.regionprops(BifLabel)\n",
    "    for idx, i in enumerate(RP):\n",
    "        (row, col) = np.int16(np.round(i['Centroid']))\n",
    "        minutiaeBif[row, col] = 1;\n",
    "        (rr, cc) = skimage.draw.circle_perimeter(row, col, 1);\n",
    "        skimage.draw.set_color(DispImg, (rr, cc), (255, 0, 0));\n",
    "\n",
    "    RP = skimage.measure.regionprops(TermLabel)\n",
    "    for idx, i in enumerate(RP):\n",
    "        (row, col) = np.int16(np.round(i['Centroid']))\n",
    "        minutiaeTerm[row, col] = 1;\n",
    "        (rr, cc) = skimage.draw.circle_perimeter(row, col, 1);\n",
    "        skimage.draw.set_color(DispImg, (rr, cc), (0, 0, 255));\n",
    "        \n",
    "    plt.figure(figsize=(6,6))\n",
    "    plt.title(\"Minutiae extraction results\")\n",
    "    plt.imshow(DispImg)"
   ]
  },
  {
   "cell_type": "code",
   "execution_count": 7,
   "metadata": {
    "scrolled": true
   },
   "outputs": [
    {
     "data": {
      "image/png": "[encoded data removed]",
      "text/plain": [
       "<Figure size 432x432 with 1 Axes>"
      ]
     },
     "metadata": {
      "needs_background": "light"
     },
     "output_type": "display_data"
    }
   ],
   "source": [
    "img_name = display_list[1]\n",
    "img = cv2.imread(img_name,0);\n",
    "img = np.array(img > THRESHOLD1).astype(int)\n",
    "skel = skimage.morphology.skeletonize(img)\n",
    "skel = np.uint8(skel)*255;\n",
    "mask = img*255;\n",
    "\n",
    "(minutiaeTerm, minutiaeBif) = getTerminationBifurcation(skel, mask);\n",
    "FeaturesTerm, FeaturesBif = extractMinutiaeFeatures(skel, minutiaeTerm, minutiaeBif)\n",
    "BifLabel = skimage.measure.label(minutiaeBif, connectivity=1);\n",
    "TermLabel = skimage.measure.label(minutiaeTerm, connectivity=1);\n",
    "ShowResults(skel, TermLabel, BifLabel)"
   ]
  },
  {
   "cell_type": "code",
   "execution_count": null,
   "metadata": {},
   "outputs": [],
   "source": []
  },
  {
   "cell_type": "code",
   "execution_count": null,
   "metadata": {},
   "outputs": [],
   "source": []
  }
 ],
 "metadata": {
  "kernelspec": {
   "display_name": "Python 3",
   "language": "python",
   "name": "python3"
  },
  "language_info": {
   "codemirror_mode": {
    "name": "ipython",
    "version": 3
   },
   "file_extension": ".py",
   "mimetype": "text/x-python",
   "name": "python",
   "nbconvert_exporter": "python",
   "pygments_lexer": "ipython3",
   "version": "3.8.5"
  }
 },
 "nbformat": 4,
 "nbformat_minor": 5
}
